{
 "cells": [
  {
   "cell_type": "code",
   "execution_count": 1,
   "id": "362d3eff",
   "metadata": {},
   "outputs": [
    {
     "ename": "ImportError",
     "evalue": "cannot import name 'create_welldata_matrix' from 'bmtools' (/home/aalbano/Documents/GitHub/Inversion-Background-Model-Builder/src/core/bmtools.py)",
     "output_type": "error",
     "traceback": [
      "\u001b[31m---------------------------------------------------------------------------\u001b[39m",
      "\u001b[31mImportError\u001b[39m                               Traceback (most recent call last)",
      "\u001b[36mCell\u001b[39m\u001b[36m \u001b[39m\u001b[32mIn[1]\u001b[39m\u001b[32m, line 1\u001b[39m\n\u001b[32m----> \u001b[39m\u001b[32m1\u001b[39m \u001b[38;5;28;01mfrom\u001b[39;00m\u001b[38;5;250m \u001b[39m\u001b[34;01mbmtools\u001b[39;00m\u001b[38;5;250m \u001b[39m\u001b[38;5;28;01mimport\u001b[39;00m create_welldata_matrix\n\u001b[32m      2\u001b[39m \u001b[38;5;28;01mimport\u001b[39;00m\u001b[38;5;250m \u001b[39m\u001b[34;01mos\u001b[39;00m\n\u001b[32m      3\u001b[39m \u001b[38;5;28;01mimport\u001b[39;00m\u001b[38;5;250m \u001b[39m\u001b[34;01mpandas\u001b[39;00m\u001b[38;5;250m \u001b[39m\u001b[38;5;28;01mas\u001b[39;00m\u001b[38;5;250m \u001b[39m\u001b[34;01mpd\u001b[39;00m\n",
      "\u001b[31mImportError\u001b[39m: cannot import name 'create_welldata_matrix' from 'bmtools' (/home/aalbano/Documents/GitHub/Inversion-Background-Model-Builder/src/core/bmtools.py)"
     ]
    }
   ],
   "source": [
    "from bmtools import create_welldata_matrix\n",
    "import os\n",
    "import pandas as pd\n",
    "import re\n",
    "from pathlib import Path\n",
    "import numpy as np\n"
   ]
  },
  {
   "cell_type": "code",
   "execution_count": 2,
   "id": "2b238793",
   "metadata": {},
   "outputs": [
    {
     "data": {
      "text/plain": [
       "array([[3436.40674, 3436.48169, 3436.57104, ..., 3636.93799, 3636.94922,\n",
       "        3636.95874],\n",
       "       [3434.6665 , 3434.73901, 3434.82349, ..., 3636.91992, 3636.93066,\n",
       "        3636.94067],\n",
       "       [3432.04126, 3432.11475, 3432.19873, ..., 3636.90674, 3636.91772,\n",
       "        3636.92749],\n",
       "       ...,\n",
       "       [3118.08374, 3118.0564 , 3118.02563, ..., 3711.5769 , 3711.37378,\n",
       "        3711.19556],\n",
       "       [3344.82983, 3344.80103, 3344.76782, ..., 3711.86401, 3711.66187,\n",
       "        3711.48755],\n",
       "       [3458.604  , 3458.57642, 3458.54468, ..., 3712.12793, 3711.9231 ,\n",
       "        3711.74976]], shape=(2169, 2753))"
      ]
     },
     "execution_count": 2,
     "metadata": {},
     "output_type": "execute_result"
    }
   ],
   "source": [
    "import bmtools\n",
    "\n",
    "bmtools.load_and_grid(\"/run/media/aalbano/ExtDrive/abl_data/Horizontes/Time/Marco_Azul.txt\")"
   ]
  },
  {
   "cell_type": "code",
   "execution_count": 5,
   "id": "7a938aac",
   "metadata": {},
   "outputs": [],
   "source": [
    "import numpy as np\n",
    "# Open the file and load its data into a variable\n",
    "data = np.loadtxt(\n",
    "    \"/run/media/aalbano/ExtDrive/abl_data/Horizontes/Time/Marco_Azul.txt\",\n",
    "    usecols=(2, 5, 8)\n",
    ")\n",
    "\n",
    "# Slice the array as requested\n",
    "data = data[:1528, :2244]\n",
    "\n",
    "# Save the sliced array back to a txt file\n",
    "np.savetxt(\"/run/media/aalbano/ExtDrive/abl_data/Horizontes/Time/Marco_Azul_sliced.txt\", data)"
   ]
  },
  {
   "cell_type": "code",
   "execution_count": null,
   "id": "563e8f54",
   "metadata": {},
   "outputs": [],
   "source": []
  }
 ],
 "metadata": {
  "kernelspec": {
   "display_name": ".venv",
   "language": "python",
   "name": "python3"
  },
  "language_info": {
   "codemirror_mode": {
    "name": "ipython",
    "version": 3
   },
   "file_extension": ".py",
   "mimetype": "text/x-python",
   "name": "python",
   "nbconvert_exporter": "python",
   "pygments_lexer": "ipython3",
   "version": "3.13.7"
  }
 },
 "nbformat": 4,
 "nbformat_minor": 5
}
